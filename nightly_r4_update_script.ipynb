{
 "cells": [
  {
   "cell_type": "markdown",
   "metadata": {},
   "source": [
    "# Import changes from R4"
   ]
  },
  {
   "cell_type": "code",
   "execution_count": 37,
   "metadata": {},
   "outputs": [],
   "source": [
    "import requests\n",
    "import pandas\n",
    "import json\n",
    "import os\n",
    "from datetime import datetime\n",
    "\n",
    "from pathlib import Path"
   ]
  },
  {
   "cell_type": "code",
   "execution_count": 2,
   "metadata": {},
   "outputs": [],
   "source": [
    "from config import api_config as cfg;"
   ]
  },
  {
   "cell_type": "code",
   "execution_count": 3,
   "metadata": {},
   "outputs": [],
   "source": [
    "### Constants\n",
    "USE_SSH = False\n",
    "DATA_DIR = \"./data/\""
   ]
  },
  {
   "cell_type": "code",
   "execution_count": 36,
   "metadata": {},
   "outputs": [
    {
     "name": "stdout",
     "output_type": "stream",
     "text": [
      "last runtime: 2000-01-01 01:01\n"
     ]
    }
   ],
   "source": [
    "### Get last run time from date file\n",
    "last_run_file = Path('./run_history.log')\n",
    "last_run_file.touch(exist_ok=True)\n",
    "\n",
    "num_lines = sum(1 for _ in open(last_run_file))\n",
    "\n",
    "if num_lines < 1:\n",
    "    last_runtime = '2000-01-01 01:01'\n",
    "else:\n",
    "    with open(last_run_file, 'r') as f:\n",
    "        last_runtime = f.readlines()[-1]\n",
    "\n",
    "print(\"last runtime:\", last_runtime)"
   ]
  },
  {
   "cell_type": "code",
   "execution_count": 5,
   "metadata": {},
   "outputs": [],
   "source": [
    "### EXPORT data from R4/source REDCap\n",
    "data = {\n",
    "    'token': cfg.config['R4_api_token'],\n",
    "    'content': 'record',\n",
    "    'action': 'export',\n",
    "    'format': 'json',\n",
    "    'type': 'flat',\n",
    "    'csvDelimiter': '',\n",
    "    'forms[0]': 'prescreening_survey',\n",
    "    'forms[1]': 'transition_page',\n",
    "    'forms[2]': 'primary_consent',\n",
    "    'forms[3]': 'cchmc_consent_part_2',\n",
    "    'forms[4]': 'cchmc_consent_parent_permission',\n",
    "    'forms[5]': 'end_of_consent_transition',\n",
    "    'forms[6]': 'baseline_survey_adult',\n",
    "    'forms[7]': 'baseline_survey_child',\n",
    "    'forms[8]': 'pre_ror_child',\n",
    "    'forms[9]': 'pre_ror_adult',\n",
    "    'forms[10]': 'pre_ror_transition',\n",
    "    'forms[11]': 'post_ror',\n",
    "    'forms[12]': 'adverse_events',\n",
    "    'forms[13]': 'study_withdrawal',\n",
    "    'forms[14]': 'consent_upload',\n",
    "    'forms[15]': 'notes',\n",
    "    'forms[16]': 'gira_reports',\n",
    "    'forms[17]': 'mono_sample',\n",
    "    'forms[18]': 'broad_ordering',\n",
    "    'forms[19]': 'metree_import',\n",
    "    'forms[20]': 'metree',\n",
    "    'forms[21]': 'family_relationships',\n",
    "    'forms[22]': 'completed_signed_consent',\n",
    "    'forms[23]': 'admin_form',\n",
    "    'forms[24]': 'unified_variables',\n",
    "    'rawOrLabel': 'raw',\n",
    "    'rawOrLabelHeaders': 'raw',\n",
    "    'exportCheckboxLabel': 'false',\n",
    "    'exportSurveyFields': 'true',\n",
    "    'exportDataAccessGroups': 'false',\n",
    "    'returnFormat': 'json',\n",
    "    'dateRangeBegin': last_runtime,\n",
    "    'dateRangeEnd': ''\n",
    "}"
   ]
  },
  {
   "cell_type": "code",
   "execution_count": 6,
   "metadata": {},
   "outputs": [
    {
     "name": "stderr",
     "output_type": "stream",
     "text": [
      "C:\\Users\\reir8p\\AppData\\Local\\Programs\\Python\\Python310\\lib\\site-packages\\urllib3\\connectionpool.py:1043: InsecureRequestWarning: Unverified HTTPS request is being made to host 'redcap.vanderbilt.edu'. Adding certificate verification is strongly advised. See: https://urllib3.readthedocs.io/en/1.26.x/advanced-usage.html#ssl-warnings\n",
      "  warnings.warn(\n"
     ]
    }
   ],
   "source": [
    "r = requests.post(cfg.config['R4_api_url'],data=data, verify=USE_SSH)"
   ]
  },
  {
   "cell_type": "code",
   "execution_count": 7,
   "metadata": {},
   "outputs": [],
   "source": [
    "### store data from request\n",
    "export_string = r.content.decode(\"utf-8\")\n",
    "export_dict = json.loads(export_string)\n",
    "export_df = pandas.DataFrame(export_dict)"
   ]
  },
  {
   "cell_type": "code",
   "execution_count": 8,
   "metadata": {},
   "outputs": [
    {
     "name": "stdout",
     "output_type": "stream",
     "text": [
      "HTTP Status: 200\n"
     ]
    }
   ],
   "source": [
    "### IMPORT data into local REDCap\n",
    "fields = {\n",
    "    'token': cfg.config['R4copy_api_token'],\n",
    "    'content': 'record',\n",
    "    'action': 'import',\n",
    "    'format': 'json',\n",
    "    'events': '',\n",
    "    'type': 'flat',\n",
    "    'overwriteBehavior': 'normal',\n",
    "    'forceAutoNumber': 'false',\n",
    "    'data': export_string,\n",
    "    'returnContent': 'count',\n",
    "    'returnFormat': 'json'\n",
    "}\n",
    "r = requests.post(cfg.config['R4copy_api_url'],data=fields)\n",
    "print('HTTP Status: ' + str(r.status_code))\n"
   ]
  },
  {
   "cell_type": "code",
   "execution_count": 9,
   "metadata": {},
   "outputs": [],
   "source": [
    "## Check the record count. If nothing to be updated, quit the script.\n",
    "\n",
    "record_count = r.json()['count']\n",
    "if (record_count < 1):\n",
    "    quit()"
   ]
  },
  {
   "cell_type": "code",
   "execution_count": 10,
   "metadata": {},
   "outputs": [],
   "source": [
    "### create list of file fields that need to be exported + copied over\n",
    "file_field_list = ['record_id','pdf_file','broad_import_pdf',\n",
    "                   'completed_signed_consent']"
   ]
  },
  {
   "cell_type": "code",
   "execution_count": 11,
   "metadata": {},
   "outputs": [],
   "source": [
    "### filter original export from above by the file fields\n",
    "files_export_df = export_df[file_field_list]"
   ]
  },
  {
   "cell_type": "code",
   "execution_count": 12,
   "metadata": {},
   "outputs": [],
   "source": [
    "### melt file dataframe so record, field, and filename are columns\n",
    "files_eav = pandas.melt(files_export_df, id_vars=['record_id'], var_name='field', value_name='file_name')\n"
   ]
  },
  {
   "cell_type": "code",
   "execution_count": 13,
   "metadata": {},
   "outputs": [],
   "source": [
    "### remove rows that don't have a filename (no file uploaded in R4)\n",
    "filtered_files_eav = files_eav[files_eav.file_name != '']"
   ]
  },
  {
   "cell_type": "code",
   "execution_count": 14,
   "metadata": {},
   "outputs": [],
   "source": [
    "### separate into consent files and non-consent files\n",
    "consent_files = filtered_files_eav[filtered_files_eav.field == 'completed_signed_consent']\n",
    "nonconsent_files = filtered_files_eav[filtered_files_eav.field != 'completed_signed_consent']"
   ]
  },
  {
   "cell_type": "code",
   "execution_count": 15,
   "metadata": {},
   "outputs": [],
   "source": [
    "### convert EAV to a list that the \"for\" loop below can iterate through\n",
    "consent_files_list = consent_files.values.tolist()\n",
    "nonconsent_files_list = nonconsent_files.values.tolist()"
   ]
  },
  {
   "cell_type": "code",
   "execution_count": 16,
   "metadata": {},
   "outputs": [
    {
     "name": "stderr",
     "output_type": "stream",
     "text": [
      "C:\\Users\\reir8p\\AppData\\Local\\Programs\\Python\\Python310\\lib\\site-packages\\urllib3\\connectionpool.py:1043: InsecureRequestWarning: Unverified HTTPS request is being made to host 'redcap.vanderbilt.edu'. Adding certificate verification is strongly advised. See: https://urllib3.readthedocs.io/en/1.26.x/advanced-usage.html#ssl-warnings\n",
      "  warnings.warn(\n"
     ]
    },
    {
     "name": "stdout",
     "output_type": "stream",
     "text": [
      "HTTP Status: 200\n"
     ]
    },
    {
     "name": "stderr",
     "output_type": "stream",
     "text": [
      "C:\\Users\\reir8p\\AppData\\Local\\Programs\\Python\\Python310\\lib\\site-packages\\urllib3\\connectionpool.py:1043: InsecureRequestWarning: Unverified HTTPS request is being made to host 'redcap.vanderbilt.edu'. Adding certificate verification is strongly advised. See: https://urllib3.readthedocs.io/en/1.26.x/advanced-usage.html#ssl-warnings\n",
      "  warnings.warn(\n"
     ]
    },
    {
     "name": "stdout",
     "output_type": "stream",
     "text": [
      "HTTP Status: 200\n"
     ]
    },
    {
     "name": "stderr",
     "output_type": "stream",
     "text": [
      "C:\\Users\\reir8p\\AppData\\Local\\Programs\\Python\\Python310\\lib\\site-packages\\urllib3\\connectionpool.py:1043: InsecureRequestWarning: Unverified HTTPS request is being made to host 'redcap.vanderbilt.edu'. Adding certificate verification is strongly advised. See: https://urllib3.readthedocs.io/en/1.26.x/advanced-usage.html#ssl-warnings\n",
      "  warnings.warn(\n"
     ]
    },
    {
     "name": "stdout",
     "output_type": "stream",
     "text": [
      "HTTP Status: 200\n"
     ]
    },
    {
     "name": "stderr",
     "output_type": "stream",
     "text": [
      "C:\\Users\\reir8p\\AppData\\Local\\Programs\\Python\\Python310\\lib\\site-packages\\urllib3\\connectionpool.py:1043: InsecureRequestWarning: Unverified HTTPS request is being made to host 'redcap.vanderbilt.edu'. Adding certificate verification is strongly advised. See: https://urllib3.readthedocs.io/en/1.26.x/advanced-usage.html#ssl-warnings\n",
      "  warnings.warn(\n"
     ]
    },
    {
     "name": "stdout",
     "output_type": "stream",
     "text": [
      "HTTP Status: 200\n"
     ]
    },
    {
     "name": "stderr",
     "output_type": "stream",
     "text": [
      "C:\\Users\\reir8p\\AppData\\Local\\Programs\\Python\\Python310\\lib\\site-packages\\urllib3\\connectionpool.py:1043: InsecureRequestWarning: Unverified HTTPS request is being made to host 'redcap.vanderbilt.edu'. Adding certificate verification is strongly advised. See: https://urllib3.readthedocs.io/en/1.26.x/advanced-usage.html#ssl-warnings\n",
      "  warnings.warn(\n"
     ]
    },
    {
     "name": "stdout",
     "output_type": "stream",
     "text": [
      "HTTP Status: 200\n"
     ]
    },
    {
     "name": "stderr",
     "output_type": "stream",
     "text": [
      "C:\\Users\\reir8p\\AppData\\Local\\Programs\\Python\\Python310\\lib\\site-packages\\urllib3\\connectionpool.py:1043: InsecureRequestWarning: Unverified HTTPS request is being made to host 'redcap.vanderbilt.edu'. Adding certificate verification is strongly advised. See: https://urllib3.readthedocs.io/en/1.26.x/advanced-usage.html#ssl-warnings\n",
      "  warnings.warn(\n"
     ]
    },
    {
     "name": "stdout",
     "output_type": "stream",
     "text": [
      "HTTP Status: 200\n"
     ]
    },
    {
     "name": "stderr",
     "output_type": "stream",
     "text": [
      "C:\\Users\\reir8p\\AppData\\Local\\Programs\\Python\\Python310\\lib\\site-packages\\urllib3\\connectionpool.py:1043: InsecureRequestWarning: Unverified HTTPS request is being made to host 'redcap.vanderbilt.edu'. Adding certificate verification is strongly advised. See: https://urllib3.readthedocs.io/en/1.26.x/advanced-usage.html#ssl-warnings\n",
      "  warnings.warn(\n"
     ]
    },
    {
     "name": "stdout",
     "output_type": "stream",
     "text": [
      "HTTP Status: 200\n"
     ]
    },
    {
     "name": "stderr",
     "output_type": "stream",
     "text": [
      "C:\\Users\\reir8p\\AppData\\Local\\Programs\\Python\\Python310\\lib\\site-packages\\urllib3\\connectionpool.py:1043: InsecureRequestWarning: Unverified HTTPS request is being made to host 'redcap.vanderbilt.edu'. Adding certificate verification is strongly advised. See: https://urllib3.readthedocs.io/en/1.26.x/advanced-usage.html#ssl-warnings\n",
      "  warnings.warn(\n"
     ]
    },
    {
     "name": "stdout",
     "output_type": "stream",
     "text": [
      "HTTP Status: 200\n"
     ]
    },
    {
     "name": "stderr",
     "output_type": "stream",
     "text": [
      "C:\\Users\\reir8p\\AppData\\Local\\Programs\\Python\\Python310\\lib\\site-packages\\urllib3\\connectionpool.py:1043: InsecureRequestWarning: Unverified HTTPS request is being made to host 'redcap.vanderbilt.edu'. Adding certificate verification is strongly advised. See: https://urllib3.readthedocs.io/en/1.26.x/advanced-usage.html#ssl-warnings\n",
      "  warnings.warn(\n"
     ]
    },
    {
     "name": "stdout",
     "output_type": "stream",
     "text": [
      "HTTP Status: 200\n"
     ]
    },
    {
     "name": "stderr",
     "output_type": "stream",
     "text": [
      "C:\\Users\\reir8p\\AppData\\Local\\Programs\\Python\\Python310\\lib\\site-packages\\urllib3\\connectionpool.py:1043: InsecureRequestWarning: Unverified HTTPS request is being made to host 'redcap.vanderbilt.edu'. Adding certificate verification is strongly advised. See: https://urllib3.readthedocs.io/en/1.26.x/advanced-usage.html#ssl-warnings\n",
      "  warnings.warn(\n"
     ]
    },
    {
     "name": "stdout",
     "output_type": "stream",
     "text": [
      "HTTP Status: 200\n"
     ]
    },
    {
     "name": "stderr",
     "output_type": "stream",
     "text": [
      "C:\\Users\\reir8p\\AppData\\Local\\Programs\\Python\\Python310\\lib\\site-packages\\urllib3\\connectionpool.py:1043: InsecureRequestWarning: Unverified HTTPS request is being made to host 'redcap.vanderbilt.edu'. Adding certificate verification is strongly advised. See: https://urllib3.readthedocs.io/en/1.26.x/advanced-usage.html#ssl-warnings\n",
      "  warnings.warn(\n"
     ]
    },
    {
     "name": "stdout",
     "output_type": "stream",
     "text": [
      "HTTP Status: 200\n"
     ]
    },
    {
     "name": "stderr",
     "output_type": "stream",
     "text": [
      "C:\\Users\\reir8p\\AppData\\Local\\Programs\\Python\\Python310\\lib\\site-packages\\urllib3\\connectionpool.py:1043: InsecureRequestWarning: Unverified HTTPS request is being made to host 'redcap.vanderbilt.edu'. Adding certificate verification is strongly advised. See: https://urllib3.readthedocs.io/en/1.26.x/advanced-usage.html#ssl-warnings\n",
      "  warnings.warn(\n"
     ]
    },
    {
     "name": "stdout",
     "output_type": "stream",
     "text": [
      "HTTP Status: 200\n"
     ]
    }
   ],
   "source": [
    "### export consent PDF files from R4 to local folder\n",
    "for ind in consent_files_list:\n",
    "    record_id = ind[0]\n",
    "    field = ind[1]\n",
    "    filename = ind[2]\n",
    "    data = {\n",
    "        'token': cfg.config['R4_api_token'],\n",
    "        'content': 'file',\n",
    "        'action': 'export',\n",
    "        'record': record_id,\n",
    "        'field': field,\n",
    "        'event': '',\n",
    "        'returnFormat': 'json'\n",
    "        }\n",
    "    r = requests.post(cfg.config['R4_api_url'],data=data,verify=USE_SSH)\n",
    "    print('HTTP Status: ' + str(r.status_code))\n",
    "    with open(DATA_DIR + str(filename), 'wb') as f:\n",
    "        f.write(r.content)\n",
    "        f.close()"
   ]
  },
  {
   "cell_type": "markdown",
   "metadata": {},
   "source": [
    "## Convert files to HIM-compatible format"
   ]
  },
  {
   "cell_type": "code",
   "execution_count": 17,
   "metadata": {},
   "outputs": [],
   "source": [
    "### create dataframe of fields for consent files for HIM\n",
    "him_filename_fields = ['record_id','age','name_of_participant_part1',\n",
    "                       'date_consent_cchmc_pp_2','date_p2_consent_cchmc',\n",
    "                       'date_of_birth_child','date_of_birth']\n",
    "him_filename_df = export_df[him_filename_fields]\n",
    "him_filename_df = him_filename_df[him_filename_df.name_of_participant_part1 != '']\n",
    "him_filename_df = him_filename_df.astype({\"age\": int})"
   ]
  },
  {
   "cell_type": "code",
   "execution_count": 18,
   "metadata": {},
   "outputs": [],
   "source": [
    "### merge dataframes for HIM file fields + table of consent file exports\n",
    "him_consent_join = pandas.merge(him_filename_df, consent_files, on='record_id')"
   ]
  },
  {
   "cell_type": "code",
   "execution_count": 19,
   "metadata": {},
   "outputs": [],
   "source": [
    "### remove whitespace from participant name\n",
    "him_consent_join['name_of_participant_part1'] = him_consent_join['name_of_participant_part1'].str.replace(' ', '')"
   ]
  },
  {
   "cell_type": "code",
   "execution_count": 20,
   "metadata": {},
   "outputs": [],
   "source": [
    "### reformat dates\n",
    "him_consent_join['date_consent_cchmc_pp_2'] = pandas.to_datetime(him_consent_join['date_consent_cchmc_pp_2'])\n",
    "him_consent_join['date_consent_cchmc_pp_2'] = him_consent_join['date_consent_cchmc_pp_2'].dt.strftime(\"%d%b%Y\")\n",
    "him_consent_join['date_p2_consent_cchmc'] = pandas.to_datetime(him_consent_join['date_p2_consent_cchmc'])\n",
    "him_consent_join['date_p2_consent_cchmc'] = him_consent_join['date_p2_consent_cchmc'].dt.strftime(\"%d%b%Y\")\n",
    "him_consent_join['date_of_birth_child'] = pandas.to_datetime(him_consent_join['date_of_birth_child'])\n",
    "him_consent_join['date_of_birth_child'] = him_consent_join['date_of_birth_child'].dt.strftime(\"%d%b%Y\")\n",
    "him_consent_join['date_of_birth'] = pandas.to_datetime(him_consent_join['date_of_birth'])\n",
    "him_consent_join['date_of_birth'] = him_consent_join['date_of_birth'].dt.strftime(\"%d%b%Y\")"
   ]
  },
  {
   "cell_type": "code",
   "execution_count": 21,
   "metadata": {},
   "outputs": [],
   "source": [
    "### convert to list\n",
    "him_consent_list = him_consent_join.values.tolist()"
   ]
  },
  {
   "cell_type": "code",
   "execution_count": 22,
   "metadata": {},
   "outputs": [],
   "source": [
    "## iterate through old file names and rename, add new names to blank list\n",
    "him_newnames_list = []\n",
    "for ind in him_consent_list:\n",
    "    oldfilename = ind[8]\n",
    "    record_id = ind[0]\n",
    "    age = ind[1]\n",
    "    name = ind[2]\n",
    "    if age < 18:\n",
    "        sign_date = ind[3]\n",
    "        dob = ind[5]\n",
    "    else:\n",
    "        sign_date = ind[4]\n",
    "        dob = ind[6]\n",
    "    newname = str(sign_date)+\"_\"+str(name)+\"_\"+str(dob)+\".pdf\"\n",
    "    os.rename(DATA_DIR + str(oldfilename), DATA_DIR + str(newname))\n",
    "    him_newnames_list.append(newname)\n",
    "\n",
    "him_newnames_df = pandas.DataFrame({'newname': him_newnames_list})\n",
    "him_consent_join = him_consent_join.join(him_newnames_df)          \n",
    "him_consent_list = him_consent_join.values.tolist()"
   ]
  },
  {
   "cell_type": "code",
   "execution_count": 38,
   "metadata": {},
   "outputs": [
    {
     "name": "stdout",
     "output_type": "stream",
     "text": [
      "HTTP Status: 200\n",
      "HTTP Status: 200\n",
      "HTTP Status: 200\n",
      "HTTP Status: 200\n",
      "HTTP Status: 200\n",
      "HTTP Status: 200\n",
      "HTTP Status: 200\n",
      "HTTP Status: 200\n",
      "HTTP Status: 200\n",
      "HTTP Status: 200\n",
      "HTTP Status: 200\n",
      "HTTP Status: 200\n"
     ]
    }
   ],
   "source": [
    "### import renamed consent files into copy of R4\n",
    "for ind in him_consent_list:\n",
    "    filename = ind[9]\n",
    "    data = {\n",
    "        'token': cfg.config['R4copy_api_token'],\n",
    "        'content': 'file',\n",
    "        'action': 'import',\n",
    "        'record': ind[0],\n",
    "        'field': ind[7],\n",
    "        'event': '',\n",
    "        'returnFormat': 'json'\n",
    "        }\n",
    "    with open((DATA_DIR + str(filename)), 'rb') as f:\n",
    "        r=requests.post(cfg.config['R4copy_api_url'], data=data, files={'file':f})\n",
    "        f.close()\n",
    "        print('HTTP Status: ' + str(r.status_code))"
   ]
  },
  {
   "cell_type": "code",
   "execution_count": 24,
   "metadata": {},
   "outputs": [],
   "source": [
    "### export non-consent PDF files from R4 to local folder\n",
    "for ind in nonconsent_files_list:\n",
    "    record_id = ind[0]\n",
    "    field = ind[1]\n",
    "    filename = ind[2]\n",
    "    data = {\n",
    "        'token': cfg.config['R4_api_token'],\n",
    "        'content': 'file',\n",
    "        'action': 'export',\n",
    "        'record': record_id,\n",
    "        'field': field,\n",
    "        'event': '',\n",
    "        'returnFormat': 'json'\n",
    "        }\n",
    "    r = requests.post(cfg.config['R4_api_url'],data=data,verify=False)\n",
    "    print('HTTP Status: ' + str(r.status_code))\n",
    "    with open(DATA_DIR + str(filename), 'wb') as f:\n",
    "        f.write(r.content)\n",
    "        f.close()"
   ]
  },
  {
   "cell_type": "code",
   "execution_count": 25,
   "metadata": {},
   "outputs": [],
   "source": [
    "### import non-consent files into copy of R4\n",
    "for ind in nonconsent_files_list:\n",
    "    filename = ind[2]\n",
    "    data = {\n",
    "        'token': cfg.config['R4copy_api_token'],\n",
    "        'content': 'file',\n",
    "        'action': 'import',\n",
    "        'record': ind[0],\n",
    "        'field': ind[1],\n",
    "        'event': '',\n",
    "        'returnFormat': 'json'\n",
    "        }\n",
    "    with open((DATA_DIR + str(filename)), 'rb') as f:\n",
    "        r=requests.post(cfg.config['R4copy_api_url'], data=data, files={'file':f})\n",
    "        f.close()\n",
    "        print('HTTP Status: ' + str(r.status_code))\n"
   ]
  },
  {
   "cell_type": "code",
   "execution_count": 26,
   "metadata": {},
   "outputs": [],
   "source": [
    "### Update date file with latest run time\n",
    "def write_file(filename,data):\n",
    "    if os.path.isfile(filename):\n",
    "        with open(filename, 'a') as f:          \n",
    "            f.write('\\n' + data)   \n",
    "    else:\n",
    "        with open(filename, 'w') as f:                   \n",
    "            f.write(data)"
   ]
  },
  {
   "cell_type": "code",
   "execution_count": 27,
   "metadata": {},
   "outputs": [],
   "source": [
    "def print_time():   \n",
    "    now = datetime.now()\n",
    "    current_time = now.strftime(\"%Y-%m-%d %H:%M\")\n",
    "    data = current_time\n",
    "    return data"
   ]
  },
  {
   "cell_type": "code",
   "execution_count": 28,
   "metadata": {},
   "outputs": [],
   "source": [
    "write_file('run_history.log' , print_time())"
   ]
  },
  {
   "cell_type": "code",
   "execution_count": null,
   "metadata": {},
   "outputs": [],
   "source": []
  }
 ],
 "metadata": {
  "interpreter": {
   "hash": "1fd4b45343b49ea8eb3688c0e049615c9e09f0e210ed38370ecfd30e3eef89d8"
  },
  "kernelspec": {
   "display_name": "Python 3.10.4 64-bit",
   "language": "python",
   "name": "python3"
  },
  "language_info": {
   "codemirror_mode": {
    "name": "ipython",
    "version": 3
   },
   "file_extension": ".py",
   "mimetype": "text/x-python",
   "name": "python",
   "nbconvert_exporter": "python",
   "pygments_lexer": "ipython3",
   "version": "3.10.4"
  },
  "orig_nbformat": 4
 },
 "nbformat": 4,
 "nbformat_minor": 2
}
