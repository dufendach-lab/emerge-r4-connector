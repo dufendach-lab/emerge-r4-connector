{
 "cells": [
  {
   "cell_type": "code",
   "execution_count": null,
   "metadata": {},
   "outputs": [],
   "source": [
    "import numpy\n",
    "import requests\n",
    "import pandas\n",
    "import json\n",
    "import os\n",
    "from datetime import datetime, timedelta\n",
    "import base64\n",
    "from pathlib import Path"
   ]
  },
  {
   "cell_type": "markdown",
   "metadata": {},
   "source": [
    "%%"
   ]
  },
  {
   "cell_type": "code",
   "execution_count": null,
   "metadata": {},
   "outputs": [],
   "source": [
    "from config import api_config as cfg;"
   ]
  },
  {
   "cell_type": "markdown",
   "metadata": {},
   "source": [
    "%%<br>\n",
    "# Constants"
   ]
  },
  {
   "cell_type": "code",
   "execution_count": null,
   "metadata": {},
   "outputs": [],
   "source": [
    "USE_SSH = False\n",
    "DATA_DIR = \"./data/\"\n",
    "GIRA_DIR = \"./gira_files/\"\n",
    "headers = requests.utils.default_headers()\n",
    "headers.update(\n",
    "    {\n",
    "        'User-Agent': 'My User Agent 1.0',\n",
    "    }\n",
    ")"
   ]
  },
  {
   "cell_type": "markdown",
   "metadata": {},
   "source": [
    "# Get last run time from date file"
   ]
  },
  {
   "cell_type": "code",
   "execution_count": null,
   "metadata": {},
   "outputs": [],
   "source": [
    "def get_last_runtime():\n",
    "    last_run_file = Path('./run_history.log')\n",
    "    last_run_file.touch(exist_ok=True)\n",
    "    num_lines = sum(1 for _ in open(last_run_file))\n",
    "    if num_lines < 1:\n",
    "        last_runtime = '2000-01-01 01:01'\n",
    "    else:\n",
    "        with open(last_run_file, 'r') as f:\n",
    "            last_runtime = f.readlines()[-1]\n",
    "    return last_runtime"
   ]
  },
  {
   "cell_type": "code",
   "execution_count": null,
   "metadata": {},
   "outputs": [],
   "source": [
    "last_time = get_last_runtime()\n",
    "print(\"last runtime:\", last_time)\n",
    "diff = pandas.to_datetime(last_time) - timedelta(days=1)\n",
    "diff = diff.strftime('%Y-%m-%d')\n",
    "new_lasttime = str(diff)\n",
    "# %%"
   ]
  },
  {
   "cell_type": "markdown",
   "metadata": {},
   "source": [
    "%%<br>\n",
    "# EXPORT existing records from R4/source REDCap"
   ]
  },
  {
   "cell_type": "code",
   "execution_count": null,
   "metadata": {},
   "outputs": [],
   "source": [
    "def get_r4_records():\n",
    "    data = {\n",
    "        'token': cfg.config['R4_api_token'],\n",
    "        'content': 'record',\n",
    "        'action': 'export',\n",
    "        'format': 'json',\n",
    "        'type': 'flat',\n",
    "        'csvDelimiter': '',\n",
    "        'forms[0]': 'prescreening_survey',\n",
    "        'rawOrLabel': 'raw',\n",
    "        'rawOrLabelHeaders': 'raw',\n",
    "        'exportCheckboxLabel': 'false',\n",
    "        'exportSurveyFields': 'true',\n",
    "        'exportDataAccessGroups': 'false',\n",
    "        'returnFormat': 'json',\n",
    "        'dateRangeBegin': '2010-01-01 00:00:00',\n",
    "        'dateRangeEnd': ''\n",
    "    }\n",
    "    print('get_r4_records')\n",
    "    r = requests.post(cfg.config['R4_api_url'], data=data, verify=USE_SSH, timeout=None, headers=headers)\n",
    "    print('HTTP Status: ' + str(r.status_code))\n",
    "    ### store data from request\n",
    "    R4_exportIDs_string = r.content.decode(\"utf-8\")\n",
    "    R4_exportIDs_dict = json.loads(R4_exportIDs_string)\n",
    "    R4_exportIDs_df = pandas.DataFrame(R4_exportIDs_dict)\n",
    "    R4_exportIDs = R4_exportIDs_df['record_id'].tolist()\n",
    "    return R4_exportIDs"
   ]
  },
  {
   "cell_type": "code",
   "execution_count": null,
   "metadata": {},
   "outputs": [],
   "source": [
    "R4_exportIDs = get_r4_records()"
   ]
  },
  {
   "cell_type": "markdown",
   "metadata": {},
   "source": [
    "%%"
   ]
  },
  {
   "cell_type": "code",
   "execution_count": null,
   "metadata": {},
   "outputs": [],
   "source": [
    "def get_cchmc_records():\n",
    "    data = {\n",
    "        'token': cfg.config['R4copy_api_token'],\n",
    "        'content': 'record',\n",
    "        'action': 'export',\n",
    "        'format': 'json',\n",
    "        'type': 'flat',\n",
    "        'csvDelimiter': '',\n",
    "        'forms[0]': 'prescreening_survey',\n",
    "        'rawOrLabel': 'raw',\n",
    "        'rawOrLabelHeaders': 'raw',\n",
    "        'exportCheckboxLabel': 'false',\n",
    "        'exportSurveyFields': 'true',\n",
    "        'exportDataAccessGroups': 'false',\n",
    "        'returnFormat': 'json',\n",
    "        'dateRangeBegin': '2000-01-01 00:00:00',\n",
    "        'dateRangeEnd': ''\n",
    "    }\n",
    "    print('get_cchmc_records')\n",
    "    r = requests.post(cfg.config['R4copy_api_url'], data=data, verify=USE_SSH)\n",
    "    print('HTTP Status: ' + str(r.status_code))\n",
    "    ### store data from request\n",
    "    R4copy_exportIDs_string = r.content.decode(\"utf-8\")\n",
    "    R4copy_exportIDs_dict = json.loads(R4copy_exportIDs_string)\n",
    "    R4copy_exportIDs_df = pandas.DataFrame(R4copy_exportIDs_dict)\n",
    "    R4copy_exportIDs = R4copy_exportIDs_df['record_id'].tolist()\n",
    "    # R4copy_exportIDs = pandas.DataFrame(R4copy_exportIDs, columns=['record_id'])\n",
    "    return R4copy_exportIDs"
   ]
  },
  {
   "cell_type": "code",
   "execution_count": null,
   "metadata": {},
   "outputs": [],
   "source": [
    "R4copy_exportIDs = get_cchmc_records()"
   ]
  },
  {
   "cell_type": "markdown",
   "metadata": {},
   "source": [
    "%%<br>\n",
    "# store data from request<br>\n",
    "%%<br>\n",
    "# calculate differences in IDs between projects"
   ]
  },
  {
   "cell_type": "code",
   "execution_count": null,
   "metadata": {},
   "outputs": [],
   "source": [
    "add_to_R4copy = list(set(R4_exportIDs) - set(R4copy_exportIDs))\n",
    "num_add = len(add_to_R4copy)\n",
    "add_to_R4copy = pandas.DataFrame(add_to_R4copy, columns=['record_id'])\n",
    "add_to_R4copy = add_to_R4copy.to_json(orient=\"index\")\n",
    "delete_from_R4copy = list(set(R4copy_exportIDs) - set(R4_exportIDs))\n",
    "num_delete = len(delete_from_R4copy)\n",
    "delete_from_R4copy = numpy.asarray(delete_from_R4copy)"
   ]
  },
  {
   "cell_type": "markdown",
   "metadata": {},
   "source": [
    "%%"
   ]
  },
  {
   "cell_type": "code",
   "execution_count": null,
   "metadata": {},
   "outputs": [],
   "source": [
    "def create_records(to_add, to_add_json):\n",
    "    if to_add > 0:\n",
    "        fields = {\n",
    "            'token': cfg.config['R4copy_api_token'],\n",
    "            'content': 'record',\n",
    "            'action': 'import',\n",
    "            'format': 'json',\n",
    "            'events': '',\n",
    "            'type': 'flat',\n",
    "            'overwriteBehavior': 'normal',\n",
    "            'forceAutoNumber': 'false',\n",
    "            'data': to_add_json,\n",
    "            'returnContent': 'count',\n",
    "            'returnFormat': 'json'\n",
    "        }\n",
    "        print('create_records')\n",
    "        create_records_r = requests.post(cfg.config['R4copy_api_url'], data=fields)\n",
    "        return 'HTTP Status: ' + str(create_records_r.status_code)"
   ]
  },
  {
   "cell_type": "code",
   "execution_count": null,
   "metadata": {},
   "outputs": [],
   "source": [
    "create_records(num_add, add_to_R4copy)"
   ]
  },
  {
   "cell_type": "code",
   "execution_count": null,
   "metadata": {},
   "outputs": [],
   "source": [
    "def delete_records(to_delete, to_delete_json):\n",
    "    if to_delete > 0:\n",
    "        fields = {\n",
    "            'token': cfg.config['R4copy_api_token'],\n",
    "            'action': 'delete',\n",
    "            'content': 'record',\n",
    "            'records[]': to_delete_json,\n",
    "            'returnFormat': 'json'\n",
    "        }\n",
    "        print('delete_records')\n",
    "        delete_records_r = requests.post(cfg.config['R4copy_api_url'], data=fields)\n",
    "        return 'HTTP Status: ' + str(delete_records_r.status_code)"
   ]
  },
  {
   "cell_type": "code",
   "execution_count": null,
   "metadata": {},
   "outputs": [],
   "source": [
    "delete_records(num_delete, delete_from_R4copy)\n",
    "# %%\n",
    "def print_time():\n",
    "    now = datetime.now()\n",
    "    current_time = now.strftime(\"%Y-%m-%d %H:%M\")\n",
    "    data = current_time\n",
    "    return data"
   ]
  },
  {
   "cell_type": "code",
   "execution_count": null,
   "metadata": {},
   "outputs": [],
   "source": [
    "def write_file(filename,data):\n",
    "    if os.path.isfile(filename):\n",
    "        with open (filename, 'a') as f:\n",
    "            f.write('\\n' + data)\n",
    "    else:\n",
    "        with open(filename, 'w') as f:\n",
    "            f.write(data)"
   ]
  },
  {
   "cell_type": "code",
   "execution_count": null,
   "metadata": {},
   "outputs": [],
   "source": [
    "new_runtime = print_time()\n",
    "# %%\n",
    "def r4_pull(time):\n",
    "    data = {\n",
    "        'token': cfg.config['R4_api_token'],\n",
    "        'content': 'record',\n",
    "        'action': 'export',\n",
    "        'format': 'json',\n",
    "        'type': 'flat',\n",
    "        'csvDelimiter': '',\n",
    "        'forms[0]': 'prescreening_survey',\n",
    "        'forms[1]': 'transition_page',\n",
    "        'forms[2]': 'primary_consent',\n",
    "        'forms[3]': 'cchmc_consent_part_2',\n",
    "        'forms[4]': 'cchmc_consent_parent_permission',\n",
    "        'forms[5]': 'end_of_consent_transition',\n",
    "        'forms[6]': 'baseline_survey_adult',\n",
    "        'forms[7]': 'baseline_survey_child',\n",
    "        'forms[8]': 'pre_ror_adult',\n",
    "        'forms[9]': 'pre_ror_child',\n",
    "        'forms[10]': 'pre_ror_transition',\n",
    "        'forms[11]': 'adverse_events',\n",
    "        'forms[12]': 'study_withdrawal',\n",
    "        'forms[13]': 'consent_upload',\n",
    "        'forms[14]': 'notes',\n",
    "        'forms[15]': 'mono_sample',\n",
    "        'forms[16]': 'broad_ordering',\n",
    "        'forms[17]': 'metree_import',\n",
    "        'forms[18]': 'family_relationships',\n",
    "        'forms[19]': 'completed_signed_consent',\n",
    "        'forms[20]': 'admin_form',\n",
    "        'forms[22]': 'unified_variables',\n",
    "        'forms[23]': 'r4_metree_result',\n",
    "        'forms[24]': 'r4_invitae_result',\n",
    "        'forms[25]': 'r4_broad_result',\n",
    "        'forms[26]': 'gira_clinical_variables',\n",
    "        'forms[27]': 'invitae_import',\n",
    "        'forms[28]': 'module_variables',\n",
    "        'forms[29]': 'gira_review',\n",
    "        'forms[30]': 'staged_gira',\n",
    "        'forms[31]': 'gira_reports',\n",
    "        'forms[32]': 'ror',\n",
    "        'forms[33]': 'postror_child',\n",
    "        'forms[34]': 'postror_adult',\n",
    "        'forms[35]': 'adult_fhh_rescue',\n",
    "        'forms[36]': 'pediatric_fhh_rescue',\n",
    "        'rawOrLabel': 'raw',\n",
    "        'rawOrLabelHeaders': 'raw',\n",
    "        'exportCheckboxLabel': 'false',\n",
    "        'exportSurveyFields': 'true',\n",
    "        'exportDataAccessGroups': 'false',\n",
    "        'returnFormat': 'json',\n",
    "        'dateRangeBegin': time,\n",
    "        'dateRangeEnd': ''\n",
    "    }\n",
    "    print('r4_pull')\n",
    "    r4_pull_r = requests.post(cfg.config['R4_api_url'],data=data, verify=USE_SSH, timeout=None)\n",
    "    print('HTTP Status: ' + str(r4_pull_r.status_code))\n",
    "    return r4_pull_r"
   ]
  },
  {
   "cell_type": "code",
   "execution_count": null,
   "metadata": {},
   "outputs": [],
   "source": [
    "r4_pull_r = r4_pull(last_time)\n",
    "# %%\n",
    "### Check the record count. If nothing to be updated, quit the script."
   ]
  },
  {
   "cell_type": "code",
   "execution_count": null,
   "metadata": {},
   "outputs": [],
   "source": [
    "record_count = len(r4_pull_r.json())\n",
    "print('Records to update: ' + str(record_count))\n",
    "print(print_time())\n",
    "if (record_count < 1):\n",
    "    print('No records to update, quitting script')\n",
    "    quit()"
   ]
  },
  {
   "cell_type": "markdown",
   "metadata": {},
   "source": [
    "%%"
   ]
  },
  {
   "cell_type": "code",
   "execution_count": null,
   "metadata": {},
   "outputs": [],
   "source": [
    "def save_r4_export(export):\n",
    "    R4_fullexport_string = r4_pull_r.content.decode(\"utf-8\")\n",
    "    R4_fullexport_dict = json.loads(R4_fullexport_string)\n",
    "    R4_fullexport_df = pandas.DataFrame(R4_fullexport_dict)\n",
    "    R4_fullexport_df = R4_fullexport_df.loc[:, ~R4_fullexport_df.columns.str.contains('timestamp')]\n",
    "    return R4_fullexport_df"
   ]
  },
  {
   "cell_type": "code",
   "execution_count": null,
   "metadata": {},
   "outputs": [],
   "source": [
    "R4_fullexport_df = save_r4_export(r4_pull_r)\n",
    "R4_edited_string = R4_fullexport_df.to_json(orient='records')\n",
    "#R4_split_df1 = R4_fullexport_df.loc[0:800]\n",
    "#R4_split_df2 = R4_fullexport_df.loc[801:1600]\n",
    "#R4_split_df3 = R4_fullexport_df.loc[1601:2400]\n",
    "#R4_split_string1 = R4_split_df1.to_json(orient='records')\n",
    "#R4_split_string2 = R4_split_df2.to_json(orient='records')\n",
    "#R4_split_string3 = R4_split_df3.to_json(orient='records')"
   ]
  },
  {
   "cell_type": "markdown",
   "metadata": {},
   "source": [
    "%%<br>\n",
    "# create list of file fields that need to be exported + copied over"
   ]
  },
  {
   "cell_type": "code",
   "execution_count": null,
   "metadata": {},
   "outputs": [],
   "source": [
    "def identify_files(all_data):\n",
    "    file_field_list = ['record_id','pdf_file','broad_import_pdf',\n",
    "                   'completed_signed_consent', 'metree_import_json_file',\n",
    "                   'metree_import_png', 'invitae_import_json_file',\n",
    "                   'invitae_hl7_file', 'invitae_import_pdf']\n",
    "    ### filter export dataframe by the file fields\n",
    "    files_export_df = all_data[file_field_list]\n",
    "    ### melt file dataframe so record, field, and filename are columns\n",
    "    files_eav = pandas.melt(files_export_df, id_vars=['record_id'], var_name='field', value_name='file_name')\n",
    "    ### remove rows that don't have a filename (no file uploaded in R4)\n",
    "    filtered_files_eav = files_eav[files_eav.file_name != '']\n",
    "    return filtered_files_eav"
   ]
  },
  {
   "cell_type": "code",
   "execution_count": null,
   "metadata": {},
   "outputs": [],
   "source": [
    "filtered_files_eav = identify_files(R4_fullexport_df)"
   ]
  },
  {
   "cell_type": "code",
   "execution_count": null,
   "metadata": {},
   "outputs": [],
   "source": [
    "def get_gira_export_fields():\n",
    "    gira_date_list = ['record_id', 'gira_pdf','date_gira_disclosed', 'date_gira_generated' ]\n",
    "    gira_date_df = R4_fullexport_df[gira_date_list]\n",
    "    concat_gira = gira_date_df.groupby('record_id').agg({'date_gira_generated':'last', 'date_gira_disclosed':'first', 'gira_pdf': 'last'}).reset_index()\n",
    "    concat_gira = concat_gira[concat_gira.date_gira_generated != '']\n",
    "    concat_gira['date_gira_generated'] = pandas.to_datetime(concat_gira['date_gira_generated'])\n",
    "    #concat_gira['date_gira_generated'] = pandas.to_datetime(concat_gira['date_gira_generated']).dt.date\n",
    "    concat_gira['Difference'] = (datetime.today() - concat_gira['date_gira_generated'])\n",
    "    concat_gira[\"Difference\"] = (concat_gira[\"Difference\"]).dt.days\n",
    "    gira_uploads = concat_gira[((concat_gira['Difference'] >= 28) & (concat_gira['date_gira_disclosed'] == '')) | (concat_gira['date_gira_disclosed'] >= last_time)]\n",
    "    return gira_uploads"
   ]
  },
  {
   "cell_type": "code",
   "execution_count": null,
   "metadata": {},
   "outputs": [],
   "source": [
    "gira_uploads = get_gira_export_fields()\n",
    "gira_eav = pandas.melt(gira_uploads, id_vars=['record_id'], var_name='field', value_name='file_name')\n",
    "gira_eav = gira_eav.loc[(gira_eav['field'] == 'gira_pdf')]\n",
    "gira_files_list = gira_eav.values.tolist()"
   ]
  },
  {
   "cell_type": "markdown",
   "metadata": {},
   "source": [
    "# separate into consent files and non-consent files"
   ]
  },
  {
   "cell_type": "code",
   "execution_count": null,
   "metadata": {},
   "outputs": [],
   "source": [
    "def export_consent_files(filtered_files_eav):\n",
    "    consent_files = filtered_files_eav[filtered_files_eav.field == 'completed_signed_consent']\n",
    "    consent_files_list = consent_files.values.tolist()\n",
    "    him_filename_fields = ['record_id', 'age', 'name_of_participant_part1',\n",
    "                           'date_consent_cchmc_pp_2', 'date_p2_consent_cchmc',\n",
    "                           'date_of_birth_child', 'date_of_birth']\n",
    "    him_filename_df = R4_fullexport_df[him_filename_fields]\n",
    "    # him_filename_df = him_filename_df[him_filename_df.name_of_participant_part1 != '']\n",
    "    him_filtered = him_filename_df.loc[\n",
    "        (him_filename_df['date_consent_cchmc_pp_2'] != '') | (him_filename_df['date_p2_consent_cchmc'] != '')]\n",
    "    him_filtered = him_filtered.astype({\"age\": int})\n",
    "    ### merge dataframes for HIM file fields + table of consent file exports\n",
    "    him_consent_join = pandas.merge(him_filtered, consent_files, on='record_id')\n",
    "    ### remove whitespace and special characters from participant names\n",
    "    him_consent_join['name_of_participant_part1'] = him_consent_join['name_of_participant_part1'].str.replace('\\W', '')\n",
    "    #him_lasttime = pandas.to_datetime(last_time)\n",
    "    #him_lasttime = him_lasttime.replace(hour=0, minute=0, second=0)\n",
    "    him_consent_join['date_consent_cchmc_pp_2'] = pandas.to_datetime(him_consent_join['date_consent_cchmc_pp_2'])\n",
    "    him_consent_join['date_p2_consent_cchmc'] = pandas.to_datetime(him_consent_join['date_p2_consent_cchmc'])\n",
    "    him_consent_join = him_consent_join.loc[(him_consent_join['date_consent_cchmc_pp_2'] >= new_lasttime) | (\n",
    "                him_consent_join['date_p2_consent_cchmc'] >= new_lasttime)]\n",
    "    him_consent_first_list = him_consent_join.values.tolist()\n",
    "    for ind in him_consent_first_list:\n",
    "        record_id = ind[0]\n",
    "        field = ind[7]\n",
    "        filename = ind[8]\n",
    "        data = {\n",
    "            'token': cfg.config['R4_api_token'],\n",
    "            'content': 'file',\n",
    "            'action': 'export',\n",
    "            'record': record_id,\n",
    "            'field': field,\n",
    "            'event': '',\n",
    "            'returnFormat': 'json'\n",
    "        }\n",
    "        print('export_consent_files')\n",
    "        r = requests.post(cfg.config['R4_api_url'], data=data, verify=USE_SSH, timeout=None)\n",
    "        print('HTTP Status: ' + str(r.status_code))\n",
    "        with open(DATA_DIR + str(filename), 'wb') as f:\n",
    "            f.write(r.content)\n",
    "            f.close()\n",
    "    return him_consent_join"
   ]
  },
  {
   "cell_type": "code",
   "execution_count": null,
   "metadata": {},
   "outputs": [],
   "source": [
    "him_consent_join = export_consent_files(filtered_files_eav)"
   ]
  },
  {
   "cell_type": "code",
   "execution_count": null,
   "metadata": {},
   "outputs": [],
   "source": [
    "def rename_consent_files(him_consent_join):\n",
    "    ### reformat dates\n",
    "    him_consent_join['date_consent_cchmc_pp_2'] = him_consent_join['date_consent_cchmc_pp_2'].dt.strftime(\"%d%b%Y\")\n",
    "    him_consent_join['date_p2_consent_cchmc'] = him_consent_join['date_p2_consent_cchmc'].dt.strftime(\"%d%b%Y\")\n",
    "    him_consent_join['date_of_birth_child'] = pandas.to_datetime(him_consent_join['date_of_birth_child'])\n",
    "    him_consent_join['date_of_birth_child'] = him_consent_join['date_of_birth_child'].dt.strftime(\"%d%b%Y\")\n",
    "    him_consent_join['date_of_birth'] = pandas.to_datetime(him_consent_join['date_of_birth'])\n",
    "    him_consent_join['date_of_birth'] = him_consent_join['date_of_birth'].dt.strftime(\"%d%b%Y\")\n",
    "\n",
    "    ### convert to list\n",
    "    him_consent_list = him_consent_join.values.tolist()\n",
    "\n",
    "    ## iterate through old file names and rename, add new names to blank list\n",
    "    him_newnames_list = []\n",
    "    him_ids_list = []\n",
    "    for ind in him_consent_list:\n",
    "        oldfilename = ind[8]\n",
    "        record_id = ind[0]\n",
    "        age = ind[1]\n",
    "        name = ind[2]\n",
    "        if age < 18:\n",
    "            sign_date = ind[3]\n",
    "            dob = ind[5]\n",
    "        else:\n",
    "            sign_date = ind[4]\n",
    "            dob = ind[6]\n",
    "        newname = str(sign_date) + \"_\" + str(name) + \"_\" + str(dob) + \".pdf\"\n",
    "        os.rename(DATA_DIR + str(oldfilename), DATA_DIR + str(newname))\n",
    "        him_newnames_list.append(newname)\n",
    "        him_ids_list.append(record_id)\n",
    "    him_newnames_df = pandas.DataFrame({'record_id': him_ids_list, 'newname': him_newnames_list})\n",
    "    # him_consent_join = him_consent_join.reset_index(drop=True)\n",
    "    him_consent_join2 = pandas.merge(him_consent_join, him_newnames_df, on='record_id', how='outer')\n",
    "    him_consent_list = him_consent_join2.values.tolist()\n",
    "    return him_consent_list"
   ]
  },
  {
   "cell_type": "code",
   "execution_count": null,
   "metadata": {},
   "outputs": [],
   "source": [
    "him_consent_list = rename_consent_files(him_consent_join)\n",
    "# %%\n",
    "def import_renamed_consent(list_consent_files):\n",
    "    if list_consent_files is not None:\n",
    "        for ind in list_consent_files:\n",
    "            filename = ind[9]\n",
    "            data = {\n",
    "                'token': cfg.config['R4copy_api_token'],\n",
    "                'content': 'file',\n",
    "                'action': 'import',\n",
    "                'record': ind[0],\n",
    "                'field': ind[7],\n",
    "                'event': '',\n",
    "                'returnFormat': 'json'\n",
    "            }\n",
    "            with open((DATA_DIR + str(filename)), 'rb') as f:\n",
    "                print('import_renamed_consent')\n",
    "                r = requests.post(cfg.config['R4copy_api_url'], data=data, files={'file': f}, timeout=None)\n",
    "                f.close()\n",
    "                print('HTTP Status: ' + str(r.status_code))"
   ]
  },
  {
   "cell_type": "code",
   "execution_count": null,
   "metadata": {},
   "outputs": [],
   "source": [
    "import_renamed_consent(him_consent_list)"
   ]
  },
  {
   "cell_type": "markdown",
   "metadata": {},
   "source": [
    "%%<br>\n",
    "export gira PDF files from R4 to local folder"
   ]
  },
  {
   "cell_type": "code",
   "execution_count": null,
   "metadata": {},
   "outputs": [],
   "source": [
    "def export_gira_files(gira_files_list):\n",
    "    for gira in gira_files_list:\n",
    "        record_id = gira[0]\n",
    "        field = gira[1]\n",
    "        filename = gira[2]\n",
    "        data = {\n",
    "            'token': cfg.config['R4_api_token'],\n",
    "            'content': 'file',\n",
    "            'action': 'export',\n",
    "            'record': record_id,\n",
    "            'field': field,\n",
    "            'event': '',\n",
    "            'returnFormat': 'json'\n",
    "        }\n",
    "        print('export_gira_files')\n",
    "        r = requests.post(cfg.config['R4_api_url'], data=data, verify=USE_SSH, timeout=None)\n",
    "        print('HTTP Status: ' + str(r.status_code))\n",
    "        with open(GIRA_DIR + str(filename), 'wb') as f:\n",
    "            f.write(r.content)\n",
    "            f.close()"
   ]
  },
  {
   "cell_type": "code",
   "execution_count": null,
   "metadata": {},
   "outputs": [],
   "source": [
    "export_gira_files(gira_files_list)"
   ]
  },
  {
   "cell_type": "code",
   "execution_count": null,
   "outputs": [],
   "source": [
    "def import_gira_files(gira_files_list):\n",
    "    for gira in gira_files_list:\n",
    "        record_id = gira[0]\n",
    "        field = gira[1]\n",
    "        filename = gira[2]\n",
    "        data = {\n",
    "            'token': cfg.config['R4copy_api_token'],\n",
    "            'content': 'file',\n",
    "            'action': 'import',\n",
    "            'record': record_id,\n",
    "            'field': field,\n",
    "            'event': '',\n",
    "            'returnFormat': 'json'\n",
    "        }\n",
    "        with open((GIRA_DIR + str(filename)), 'rb') as f:\n",
    "            print('import_gira_files')\n",
    "            r = requests.post(cfg.config['R4copy_api_url'], data=data, files={'file': f}, timeout=None)\n",
    "            f.close()\n",
    "            print('HTTP Status: ' + str(r.status_code))\n",
    "\n",
    "\n",
    "import_gira_files(gira_files_list)"
   ],
   "metadata": {
    "collapsed": false
   }
  },
  {
   "cell_type": "markdown",
   "metadata": {},
   "source": [
    "pull MRN from enrollment tracking REDCap project"
   ]
  },
  {
   "cell_type": "code",
   "execution_count": null,
   "metadata": {},
   "outputs": [],
   "source": [
    "def get_mrns():\n",
    "    data = {\n",
    "        'token': cfg.config['prows_api_token'],\n",
    "        'content': 'record',\n",
    "        'action': 'export',\n",
    "        'format': 'json',\n",
    "        'type': 'flat',\n",
    "        'csvDelimiter': '',\n",
    "        'fields[0]': 'record_id1',\n",
    "        'fields[1]': 'mrn',\n",
    "        'rawOrLabel': 'raw',\n",
    "        'rawOrLabelHeaders': 'raw',\n",
    "        'exportCheckboxLabel': 'false',\n",
    "        'exportSurveyFields': 'true',\n",
    "        'exportDataAccessGroups': 'false',\n",
    "        'returnFormat': 'json',\n",
    "        'dateRangeBegin': '2010-01-01 01:00',\n",
    "        'dateRangeEnd': ''\n",
    "    }\n",
    "    print('get_mrns')\n",
    "    r = requests.post(cfg.config['prows_api_url'], data=data, verify=USE_SSH, timeout=None, headers=headers)\n",
    "    print('HTTP Status: ' + str(r.status_code))\n",
    "    prows_mrn_string = r.content.decode(\"utf-8\")\n",
    "    prows_mrn_dict = json.loads(prows_mrn_string)\n",
    "    prows_mrn_df = pandas.DataFrame(prows_mrn_dict)\n",
    "    prows_mrn_df = prows_mrn_df[prows_mrn_df['mrn'] != '']\n",
    "    prows_mrn_df['record_id1'] = prows_mrn_df['record_id1'].astype('int64')\n",
    "    return prows_mrn_df"
   ]
  },
  {
   "cell_type": "code",
   "execution_count": null,
   "metadata": {},
   "outputs": [],
   "source": [
    "prows_mrn_df = get_mrns()\n",
    "# create dataframe of fields for GIRA FHIR message\n",
    "def get_gira_message_fields():\n",
    "    gira_message_fields = ['record_id', 'gira_pdf','name_of_participant_part1', 'date_of_birth_child',\n",
    "                           'date_of_birth', 'sex_at_birth', 'gira_report_id', 'date_gira_generated', 'age']\n",
    "    gira_message_df = R4_fullexport_df[gira_message_fields]\n",
    "    gira_message_df['record_id'] = gira_message_df['record_id'].astype('int64')\n",
    "    gira_uploads['record_id'] = gira_uploads['record_id'].astype('int64')\n",
    "    gira_message_df['date_gira_generated'] = pandas.to_datetime(gira_message_df['date_gira_generated'])\n",
    "    gira_message_df = gira_message_df.groupby('record_id').agg(\n",
    "        {'gira_pdf':'last', 'name_of_participant_part1':'first', 'gira_pdf': 'last',\n",
    "         'date_of_birth_child': 'first', 'date_of_birth': 'first', 'sex_at_birth': 'first',\n",
    "         'gira_report_id': 'last', 'date_gira_generated': 'last',\n",
    "         'age': 'first'}).reset_index()\n",
    "    gira_message_df = gira_message_df[gira_message_df['gira_pdf'] != '']\n",
    "    filtered_gira_message = pandas.merge(gira_uploads, gira_message_df, how='left', on=['record_id', 'gira_pdf', 'date_gira_generated'])\n",
    "    final_gira_message = pandas.merge(filtered_gira_message, prows_mrn_df, how='left', left_on='record_id', right_on='record_id1')\n",
    "    gira_message_list = final_gira_message.values.tolist()\n",
    "    return gira_message_list"
   ]
  },
  {
   "cell_type": "code",
   "execution_count": null,
   "metadata": {},
   "outputs": [],
   "source": [
    "gira_message_list = get_gira_message_fields()"
   ]
  },
  {
   "cell_type": "markdown",
   "metadata": {},
   "source": [
    "%%"
   ]
  },
  {
   "cell_type": "code",
   "execution_count": null,
   "metadata": {},
   "outputs": [],
   "source": [
    "nonconsent_files = filtered_files_eav[filtered_files_eav.field != 'completed_signed_consent']\n",
    "### convert EAV to a list that the \"for\" loop below can iterate through\n",
    "nonconsent_files_list = nonconsent_files.values.tolist()\n",
    "### export non-consent PDF files from R4 to local folder\n",
    "def export_nonconsent_files(nonconsent_files_list):\n",
    "    for ind in nonconsent_files_list:\n",
    "        record_id = ind[0]\n",
    "        field = ind[1]\n",
    "        filename = ind[2]\n",
    "        data = {\n",
    "            'token': cfg.config['R4_api_token'],\n",
    "            'content': 'file',\n",
    "            'action': 'export',\n",
    "            'record': record_id,\n",
    "            'field': field,\n",
    "            'event': '',\n",
    "            'returnFormat': 'json'\n",
    "        }\n",
    "        print('export_nonconsent_files')\n",
    "        r = requests.post(cfg.config['R4_api_url'],data=data,verify=False, timeout=None)\n",
    "        print('HTTP Status: ' + str(r.status_code))\n",
    "        with open(DATA_DIR + str(filename), 'wb') as f:\n",
    "            f.write(r.content)\n",
    "            f.close()"
   ]
  },
  {
   "cell_type": "markdown",
   "metadata": {},
   "source": [
    "%%<br>\n",
    "# import non-consent files into copy of R4"
   ]
  },
  {
   "cell_type": "code",
   "execution_count": null,
   "metadata": {},
   "outputs": [],
   "source": [
    "def import_nonconsent(nonconsent_files_list):\n",
    "    for ind in nonconsent_files_list:\n",
    "        filename = ind[2]\n",
    "        data = {\n",
    "            'token': cfg.config['R4copy_api_token'],\n",
    "            'content': 'file',\n",
    "            'action': 'import',\n",
    "            'record': ind[0],\n",
    "            'field': ind[1],\n",
    "            'event': '',\n",
    "            'returnFormat': 'json'\n",
    "        }\n",
    "        with open((DATA_DIR + str(filename)), 'rb') as f:\n",
    "            print('import_nonconsent')\n",
    "            r=requests.post(cfg.config['R4copy_api_url'], data=data, files={'file':f}, verify=USE_SSH, timeout=None)\n",
    "            f.close()\n",
    "            print('HTTP Status: ' + str(r.status_code))"
   ]
  },
  {
   "cell_type": "code",
   "execution_count": null,
   "metadata": {},
   "outputs": [],
   "source": [
    "import_nonconsent(nonconsent_files_list)"
   ]
  },
  {
   "cell_type": "markdown",
   "metadata": {},
   "source": [
    "# empty the data folder"
   ]
  },
  {
   "cell_type": "code",
   "execution_count": null,
   "metadata": {},
   "outputs": [],
   "source": [
    "for pdf in os.listdir(DATA_DIR):\n",
    "    os.remove(os.path.join(DATA_DIR, pdf))"
   ]
  },
  {
   "cell_type": "markdown",
   "metadata": {},
   "source": [
    "# IMPORT field data into local REDCap"
   ]
  },
  {
   "cell_type": "code",
   "execution_count": null,
   "metadata": {},
   "outputs": [],
   "source": [
    "def cchmc_field_import(data_import):\n",
    "    fields = {\n",
    "        'token': cfg.config['R4copy_api_token'],\n",
    "        'content': 'record',\n",
    "        'action': 'import',\n",
    "        'format': 'json',\n",
    "        'events': '',\n",
    "        'type': 'flat',\n",
    "        'overwriteBehavior': 'normal',\n",
    "        'forceAutoNumber': 'false',\n",
    "        'data': R4_edited_string,\n",
    "        'returnContent': 'count',\n",
    "        'returnFormat': 'json'\n",
    "    }\n",
    "    print('cchmc_field_import')\n",
    "    try:\n",
    "        r = requests.post(cfg.config['R4copy_api_url'],data=fields, verify=USE_SSH, timeout=None)\n",
    "    except Exception as e:\n",
    "        print('cchmc_field_import did not succeed because ' + e)\n",
    "    print('HTTP Status: ' + str(r.status_code))\n",
    "    print(str(r.content))"
   ]
  },
  {
   "cell_type": "code",
   "execution_count": null,
   "metadata": {},
   "outputs": [],
   "source": [
    "cchmc_field_import(R4_edited_string)"
   ]
  },
  {
   "cell_type": "markdown",
   "metadata": {},
   "source": [
    "import required packages"
   ]
  },
  {
   "cell_type": "code",
   "execution_count": null,
   "metadata": {},
   "outputs": [],
   "source": [
    "from fhirclient import client\n",
    "from fhirclient.models import bundle, documentreference, domainresource, encounter, organization, patient, practitioner, reference, resource, observation\n",
    "from urllib import request, parse\n",
    "# define function for referencing a different resource"
   ]
  },
  {
   "cell_type": "code",
   "execution_count": null,
   "metadata": {},
   "outputs": [],
   "source": [
    "def to_reference(res):\n",
    "    ref_type = res['resourceType']\n",
    "    ref_id = res['id']\n",
    "    full_ref = ref_type + \"/\" + str(ref_id)\n",
    "    return full_ref"
   ]
  },
  {
   "cell_type": "markdown",
   "metadata": {},
   "source": [
    "find PDF file of interest, convert to base64, create gira message"
   ]
  },
  {
   "cell_type": "code",
   "execution_count": null,
   "metadata": {},
   "outputs": [],
   "source": [
    "def create_gira_message(gira_message_list):\n",
    "    for ind in gira_message_list:\n",
    "        record_id = ind[0]\n",
    "        giradate = ind[1]\n",
    "        filename = ind[3]\n",
    "        name = ind[5]\n",
    "        age = ind[10]\n",
    "        mrn = ind[11]\n",
    "        if int(age) < 18:\n",
    "            dob = ind[6]\n",
    "        else:\n",
    "            dob = ind[7]\n",
    "        sex = ind[8]\n",
    "        gira_id = ind[9]\n",
    "        with open(GIRA_DIR + str(filename), 'rb') as binary_file:\n",
    "            binary_file_data = binary_file.read()\n",
    "            base64_encoded_data = base64.b64encode(binary_file_data)\n",
    "            base64_message = base64_encoded_data.decode('utf-8')\n",
    "        pat_json = {\n",
    "            \"resourceType\": \"Patient\",\n",
    "            \"id\": record_id,\n",
    "            \"identifier\": [{\n",
    "                \"type\": {\n",
    "                    \"coding\": [{\n",
    "                        \"system\": \"http://terminology.hl7.org/CodeSystem/v2-0203\",\n",
    "                        \"code\": \"MR\"\n",
    "                    }]\n",
    "                },\n",
    "                \"system\": \"urn:oid:2.16.840.1.113883.3.1674\",\n",
    "                \"value\": mrn\n",
    "            }],\n",
    "            \"name\": [{\n",
    "                \"use\": \"official\",\n",
    "                \"family\": name.split()[1],\n",
    "                \"given\": [name.split()[0]]\n",
    "            }],\n",
    "            \"birthDate\": \"1974-12-25\",\n",
    "            \"gender\": sex\n",
    "        }\n",
    "        org_hosp_json = {\n",
    "            \"resourceType\": \"Organization\",\n",
    "            \"id\": \"1702\",\n",
    "            \"identifier\": [{\n",
    "                \"system\": \"urn:ietf:rfc:3986\",\n",
    "                \"value\": \"urn:oid:2.16.840.1.113883.3.1674\"\n",
    "            }],\n",
    "            \"type\": [\n",
    "                {\n",
    "                    \"coding\": [\n",
    "                        {\n",
    "                            \"system\": \"http://terminology.hl7.org/CodeSystem/organization-type\",\n",
    "                            \"code\": \"prov\",\n",
    "                            \"display\": \"Healthcare Provider\"\n",
    "                        }\n",
    "                    ]\n",
    "                }\n",
    "            ],\n",
    "            \"name\": \"Cincinnati Children's Hospital Medical Center\"\n",
    "        }\n",
    "        org_dept_json = {\n",
    "            \"resourceType\": \"Organization\",\n",
    "            \"id\": \"1662\",\n",
    "            \"identifier\": [{\n",
    "                \"system\": \"urn:oid:2.16.840.1.113883.3.1674\",\n",
    "                \"value\": \"20001408\"\n",
    "            }],\n",
    "            \"type\": [{\n",
    "                \"coding\": [{\n",
    "                    \"system\": \"http://terminology.hl7.org/CodeSystem/organization-type\",\n",
    "                    \"code\": \"dept\",\n",
    "                    \"display\": \"Hospital Department\"\n",
    "                }]\n",
    "            }],\n",
    "            \"name\": \"CCM T1 CLINIC\",\n",
    "            \"partOf\": {\n",
    "                \"reference\": to_reference(org_hosp_json)\n",
    "            }\n",
    "        }\n",
    "        prac_json = {\n",
    "            \"resourceType\": \"Practitioner\",\n",
    "            \"id\": \"1704\",\n",
    "            \"identifier\": [{\n",
    "                \"use\": \"official\",\n",
    "                \"system\": \"http://hl7.org/fhir/sid/us-npi\",\n",
    "                \"value\": \"1558565424\"\n",
    "            }],\n",
    "            \"name\": [{\n",
    "                \"family\": \"Wood\",\n",
    "                \"given\": [\"Sharice\"],\n",
    "                \"suffix\": [\"MD\"]\n",
    "            }]\n",
    "        }\n",
    "        enc_json = {\n",
    "            \"resourceType\": \"Encounter\",\n",
    "            \"id\": \"1705\",\n",
    "            \"status\": \"planned\",\n",
    "            \"subject\": {\n",
    "                \"reference\": to_reference(pat_json)\n",
    "            },\n",
    "            \"serviceProvider\": {\n",
    "                \"reference\": to_reference(org_dept_json)\n",
    "            },\n",
    "            \"class\": {\n",
    "                \"system\": \"http://terminology.hl7.org/CodeSystem/v3-ActCode\",\n",
    "                \"code\": \"AMB\",\n",
    "                \"display\": \"ambulatory\"\n",
    "            },\n",
    "            \"participant\": [{\n",
    "                \"individual\": {\n",
    "                    \"reference\": to_reference(prac_json)\n",
    "                }\n",
    "            }]\n",
    "        }\n",
    "        docref_json = {\n",
    "            \"resourceType\": \"DocumentReference\",\n",
    "            \"id\": gira_id,\n",
    "            \"status\": \"current\",\n",
    "            \"description\": \"GIRA\",\n",
    "            \"date\": giradate,\n",
    "            \"type\": {\n",
    "                \"coding\": [{\n",
    "                    \"system\": \"http://loinc.org\",\n",
    "                    \"code\": \"11502-2\",\n",
    "                    \"display\": \"Laboratory report\"\n",
    "                },\n",
    "                    {\n",
    "                        \"system\": \"urn:oid:2.16.840.1.113883.3.1674\",\n",
    "                        \"code\": \"1000267\",\n",
    "                        \"display\": \"External Genetics Report\"\n",
    "                    }\n",
    "                ]\n",
    "            },\n",
    "            \"subject\": {\n",
    "                \"reference\": to_reference(pat_json)\n",
    "            },\n",
    "            \"content\": [{\n",
    "                \"attachment\": {\n",
    "                    \"contentType\": \"application/pdf\",\n",
    "                    \"data\": 'test message',\n",
    "                    #\"data\": base64_message,\n",
    "                    \"title\": \"Genome Informed Risk Assessment\"\n",
    "                }\n",
    "            }],\n",
    "            \"context\": {\n",
    "                \"encounter\": [\n",
    "                    {\n",
    "                        \"reference\": to_reference(enc_json)\n",
    "                    }\n",
    "                ]\n",
    "            }\n",
    "        }\n",
    "        # define entire bundle constant\n",
    "        message_json = {\n",
    "            \"resourceType\": \"Bundle\",\n",
    "            \"identifier\": {\n",
    "                \"system\": \"http://cincinnatichildrens.org/emerge/bundle_identifier\",\n",
    "                \"value\": \"GIRAbundle\"\n",
    "            },\n",
    "            \"type\": \"transaction\",\n",
    "            \"entry\":\n",
    "                [\n",
    "                    {\"resource\": org_hosp_json\n",
    "                     },\n",
    "                    {\"resource\": org_dept_json\n",
    "                     },\n",
    "                    {\"resource\": pat_json\n",
    "                     },\n",
    "                    {\"resource\": prac_json\n",
    "                     },\n",
    "                    {\"resource\": enc_json\n",
    "                     },\n",
    "                    {\"resource\": docref_json\n",
    "                     }\n",
    "                ]\n",
    "        }\n",
    "        print(message_json)\n",
    "        # headers = {\n",
    "        #    'Content-Type': 'application/json'\n",
    "        # }\n",
    "        # url = \"https://llmirthuat02:40010/fhir/\"\n",
    "        # payload = message_json\n",
    "        # r = requests.post(url, headers=headers, data=payload,\n",
    "        #              verify='/Users/casjk8/Documents/llmirthuat02.pem', auth=('eMerge', 'eMerge'))\n",
    "        # print(r.text)"
   ]
  },
  {
   "cell_type": "code",
   "execution_count": null,
   "metadata": {},
   "outputs": [],
   "source": [
    "create_gira_message(gira_message_list)"
   ]
  },
  {
   "cell_type": "code",
   "execution_count": null,
   "metadata": {},
   "outputs": [],
   "source": [
    "write_file('run_history.log', new_runtime)"
   ]
  }
 ],
 "metadata": {
  "kernelspec": {
   "display_name": "Python 3",
   "language": "python",
   "name": "python3"
  },
  "language_info": {
   "codemirror_mode": {
    "name": "ipython",
    "version": 3
   },
   "file_extension": ".py",
   "mimetype": "text/x-python",
   "name": "python",
   "nbconvert_exporter": "python",
   "pygments_lexer": "ipython3",
   "version": "3.6.4"
  }
 },
 "nbformat": 4,
 "nbformat_minor": 2
}
